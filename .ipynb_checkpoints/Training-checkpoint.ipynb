{
 "cells": [
  {
   "cell_type": "code",
   "execution_count": 1,
   "metadata": {},
   "outputs": [],
   "source": [
    "import pickle"
   ]
  },
  {
   "cell_type": "code",
   "execution_count": 2,
   "metadata": {},
   "outputs": [],
   "source": [
    "X=pickle.load(open('X.pkl','rb'))\n",
    "y=pickle.load(open('y.pkl','rb'))"
   ]
  },
  {
   "cell_type": "code",
   "execution_count": 3,
   "metadata": {},
   "outputs": [
    {
     "data": {
      "text/plain": [
       "array([0, 0, 0, ..., 1, 1, 1])"
      ]
     },
     "execution_count": 3,
     "metadata": {},
     "output_type": "execute_result"
    }
   ],
   "source": [
    "y"
   ]
  },
  {
   "cell_type": "code",
   "execution_count": 4,
   "metadata": {},
   "outputs": [],
   "source": [
    "X=X/255 #Normalize image"
   ]
  },
  {
   "cell_type": "code",
   "execution_count": 5,
   "metadata": {},
   "outputs": [],
   "source": [
    "X=X.reshape(-1,100,100,1) #Reshaping it for CNN"
   ]
  },
  {
   "cell_type": "code",
   "execution_count": 6,
   "metadata": {},
   "outputs": [],
   "source": [
    "import tensorflow as tf"
   ]
  },
  {
   "cell_type": "code",
   "execution_count": 7,
   "metadata": {},
   "outputs": [],
   "source": [
    "from tensorflow import keras\n",
    "from tensorflow.keras.models import Sequential\n",
    "from tensorflow.keras.layers import Conv2D,MaxPooling2D,Dense,Flatten,Dropout,Activation\n"
   ]
  },
  {
   "cell_type": "code",
   "execution_count": 8,
   "metadata": {},
   "outputs": [],
   "source": [
    "#Designing CNN\n",
    "model=Sequential()\n",
    "\n",
    "model.add(Conv2D(64,(3,3),activation='relu'))\n",
    "model.add(MaxPooling2D((2,2)))\n",
    "\n",
    "model.add(Conv2D(32,(3,3),activation='relu'))\n",
    "model.add(MaxPooling2D((2,2)))\n",
    "\n",
    "model.add(Flatten())\n",
    "\n",
    "model.add(Dense(128,input_shape=X.shape[1:],activation='relu'))\n",
    "model.add(Dropout(0.5))\n",
    "\n",
    "model.add(Dense(128,activation='relu'))\n",
    "model.add(Dropout(0.5))\n",
    "\n",
    "model.add(Dense(64,activation='relu'))\n",
    "model.add(Dropout(0.5))\n",
    "\n",
    "model.add(Dense(2,activation='softmax'))"
   ]
  },
  {
   "cell_type": "code",
   "execution_count": 9,
   "metadata": {},
   "outputs": [],
   "source": [
    "from sklearn.model_selection import train_test_split\n",
    "train_data,test_data,train_target,test_target=train_test_split(X,y,test_size=0.1)"
   ]
  },
  {
   "cell_type": "code",
   "execution_count": 10,
   "metadata": {},
   "outputs": [],
   "source": [
    "model.compile(optimizer='adam',loss='sparse_categorical_crossentropy',metrics=['accuracy'])"
   ]
  },
  {
   "cell_type": "code",
   "execution_count": 11,
   "metadata": {},
   "outputs": [
    {
     "name": "stdout",
     "output_type": "stream",
     "text": [
      "Epoch 1/15\n",
      "64/64 [==============================] - 19s 291ms/step - loss: 0.4327 - accuracy: 0.7626\n",
      "Epoch 2/15\n",
      "64/64 [==============================] - 19s 290ms/step - loss: 0.1256 - accuracy: 0.9662\n",
      "Epoch 3/15\n",
      "64/64 [==============================] - 18s 289ms/step - loss: 0.0821 - accuracy: 0.9745\n",
      "Epoch 4/15\n",
      "64/64 [==============================] - 18s 284ms/step - loss: 0.0752 - accuracy: 0.9745\n",
      "Epoch 5/15\n",
      "64/64 [==============================] - 18s 283ms/step - loss: 0.0722 - accuracy: 0.9736\n",
      "Epoch 6/15\n",
      "64/64 [==============================] - 21s 335ms/step - loss: 0.0563 - accuracy: 0.9814\n",
      "Epoch 7/15\n",
      "64/64 [==============================] - 20s 317ms/step - loss: 0.0811 - accuracy: 0.9755\n",
      "Epoch 8/15\n",
      "64/64 [==============================] - 19s 297ms/step - loss: 0.0463 - accuracy: 0.9878\n",
      "Epoch 9/15\n",
      "64/64 [==============================] - 18s 288ms/step - loss: 0.0379 - accuracy: 0.9868\n",
      "Epoch 10/15\n",
      "64/64 [==============================] - 18s 287ms/step - loss: 0.0375 - accuracy: 0.9873\n",
      "Epoch 11/15\n",
      "64/64 [==============================] - 20s 309ms/step - loss: 0.0390 - accuracy: 0.9858\n",
      "Epoch 12/15\n",
      "64/64 [==============================] - 19s 290ms/step - loss: 0.0240 - accuracy: 0.9897\n",
      "Epoch 13/15\n",
      "64/64 [==============================] - 18s 279ms/step - loss: 0.0202 - accuracy: 0.9922\n",
      "Epoch 14/15\n",
      "64/64 [==============================] - 18s 282ms/step - loss: 0.0249 - accuracy: 0.9936\n",
      "Epoch 15/15\n",
      "64/64 [==============================] - 18s 282ms/step - loss: 0.0164 - accuracy: 0.9946\n"
     ]
    },
    {
     "data": {
      "text/plain": [
       "<keras.callbacks.History at 0x207508f26a0>"
      ]
     },
     "execution_count": 11,
     "metadata": {},
     "output_type": "execute_result"
    }
   ],
   "source": [
    "model.fit(train_data,train_target,epochs=15)"
   ]
  },
  {
   "cell_type": "code",
   "execution_count": 12,
   "metadata": {},
   "outputs": [
    {
     "name": "stdout",
     "output_type": "stream",
     "text": [
      "8/8 [==============================] - 1s 49ms/step - loss: 0.1450 - accuracy: 0.9825\n",
      "[0.1450413316488266, 0.9824561476707458]\n"
     ]
    }
   ],
   "source": [
    "print(model.evaluate(test_data,test_target))"
   ]
  },
  {
   "cell_type": "code",
   "execution_count": 13,
   "metadata": {},
   "outputs": [
    {
     "name": "stdout",
     "output_type": "stream",
     "text": [
      "INFO:tensorflow:Assets written to: covid_model\\assets\n"
     ]
    }
   ],
   "source": [
    "model.save(r'covid_model')"
   ]
  },
  {
   "cell_type": "code",
   "execution_count": null,
   "metadata": {},
   "outputs": [],
   "source": []
  }
 ],
 "metadata": {
  "kernelspec": {
   "display_name": "Python 3",
   "language": "python",
   "name": "python3"
  },
  "language_info": {
   "codemirror_mode": {
    "name": "ipython",
    "version": 3
   },
   "file_extension": ".py",
   "mimetype": "text/x-python",
   "name": "python",
   "nbconvert_exporter": "python",
   "pygments_lexer": "ipython3",
   "version": "3.8.3"
  }
 },
 "nbformat": 4,
 "nbformat_minor": 4
}
